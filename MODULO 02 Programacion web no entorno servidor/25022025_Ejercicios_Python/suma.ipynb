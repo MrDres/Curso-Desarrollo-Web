{
 "cells": [
  {
   "cell_type": "markdown",
   "metadata": {},
   "source": [
    "Description: Ejercicios de suma\n",
    "\n",
    "Ejercicio 2. Definir la función\n",
    "\n",
    "sumaMonedas : (int, int, int, int, int) -> int\n",
    "tal que sumaMonedas(a, b, c, d, e) es la suma de los euros\n",
    "correspondientes a a monedas de 1 euro, b de 2 euros, c de 5 euros, d\n",
    "10 euros y e de 20 euros. Por ejemplo,\n",
    "sumaMonedas(0, 0, 0, 0, 1) == 20\n",
    "sumaMonedas(0, 0, 8, 0, 3) == 100\n",
    "sumaMonedas(1, 1, 1, 1, 1) == 38\n"
   ]
  },
  {
   "cell_type": "code",
   "execution_count": 3,
   "metadata": {},
   "outputs": [],
   "source": [
    "def sumaMonedas (a, b, c , d , e):\n",
    "    return print(a+2*b+5*c+10*d+20*e)\n"
   ]
  },
  {
   "cell_type": "code",
   "execution_count": null,
   "metadata": {},
   "outputs": [],
   "source": [
    "def sumaMonedas (a, b, c , d , e):\n",
    "    return print(a+2*b+5*c+10*d+20*e)\n",
    "\n",
    "a = int(input(\"Ingrese la cantidad de monedas de 1: \"))\n",
    "b = int(input(\"Ingrese la cantidad de monedas de 2: \"))\n",
    "c = int(input(\"Ingrese la cantidad de monedas de 5: \"))\n",
    "d = int(input(\"Ingrese la cantidad de monedas de 10: \"))\n",
    "e = int(input(\"Ingrese la cantidad de monedas de 20: \"))\n",
    "\n",
    "total = sumaMonedas(a,b,c,d,e)\n",
    "\n",
    "print(f\"El total de dinero es:  {total} unidades.\")\n",
    "\n",
    "\n",
    "\n",
    "def soloEnteros(mensaje):\n",
    "    while True:\n",
    "        try:\n",
    "            valor = int(input(mensaje))\n",
    "            return valor\n",
    "        except ValueError:\n",
    "            print(\"El valor no es un entero, intente de nuevo\")"
   ]
  }
 ],
 "metadata": {
  "kernelspec": {
   "display_name": "Python 3",
   "language": "python",
   "name": "python3"
  },
  "language_info": {
   "codemirror_mode": {
    "name": "ipython",
    "version": 3
   },
   "file_extension": ".py",
   "mimetype": "text/x-python",
   "name": "python",
   "nbconvert_exporter": "python",
   "pygments_lexer": "ipython3",
   "version": "3.13.2"
  }
 },
 "nbformat": 4,
 "nbformat_minor": 2
}
